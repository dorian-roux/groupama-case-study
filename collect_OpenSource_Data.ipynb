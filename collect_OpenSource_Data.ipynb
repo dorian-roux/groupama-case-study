{
 "cells": [
  {
   "attachments": {},
   "cell_type": "markdown",
   "metadata": {},
   "source": [
    "#### Libraries"
   ]
  },
  {
   "cell_type": "code",
   "execution_count": 6,
   "metadata": {},
   "outputs": [],
   "source": [
    "import sys, os, wget, zipfile\n",
    "import pandas as pd"
   ]
  },
  {
   "attachments": {},
   "cell_type": "markdown",
   "metadata": {},
   "source": [
    "#### Set Paths"
   ]
  },
  {
   "cell_type": "code",
   "execution_count": 2,
   "metadata": {},
   "outputs": [],
   "source": [
    "pathData = 'data'\n",
    "pathTMP = os.path.join(pathData, 'tmp')\n",
    "os.makedirs(pathTMP, exist_ok=True)"
   ]
  },
  {
   "attachments": {},
   "cell_type": "markdown",
   "metadata": {},
   "source": [
    "---\n",
    "#### Functions"
   ]
  },
  {
   "cell_type": "code",
   "execution_count": 3,
   "metadata": {},
   "outputs": [],
   "source": [
    "def bar_progress(current, total, width=80):\n",
    "    progress_message = \"Downloading: %d%% [%d / %d] bytes\" % (current / total * 100, current, total)\n",
    "    sys.stdout.write(\"\\r\" + progress_message)\n",
    "    sys.stdout.flush()"
   ]
  },
  {
   "attachments": {},
   "cell_type": "markdown",
   "metadata": {},
   "source": [
    "---\n",
    "#### Collect Data - SIREN/SIRET of the Companies and their establishment"
   ]
  },
  {
   "cell_type": "code",
   "execution_count": 4,
   "metadata": {},
   "outputs": [],
   "source": [
    "dictStocks = dict({\n",
    "    'CORE_URL': 'https://www.data.gouv.fr/fr/datasets/r/',\n",
    "    'Stock Etablissement Historique': {'URL': '88fbb6b4-0320-443e-b739-b4376a012c32', 'UPDATE': '2023_02_01'},\n",
    "    'Stock Etablissement': {'URL': '0651fb76-bcf3-4f6a-a38d-bc04fa708576', 'UPDATE': '2023_02_01'},\n",
    "    'Stock Unite Legale Historique': {'URL': '0835cd60-2c2a-497b-bc64-404de704ce89', 'UPDATE': '2023_02_01'},\n",
    "    'Stock Etablissement Liens Succession': {'URL': '9c4d5d9c-4bbb-4b9c-837a-6155cb589e26', 'UPDATE': '2023_02_01'},\n",
    "    'Stock Unite Legale': {'URL': '825f4199-cadd-486c-ac46-a65a8ea1a047', 'UPDATE': '2023_02_01'}\n",
    "})"
   ]
  },
  {
   "cell_type": "code",
   "execution_count": 18,
   "metadata": {},
   "outputs": [
    {
     "name": "stdout",
     "output_type": "stream",
     "text": [
      "Current File -> Stock Etablissement Historique\n",
      "Downloading: 100% [978759807 / 978759807] bytesdata\\tmp/88fbb6b4-0320-443e-b739-b4376a012c32\n",
      "\n",
      "File Downloaded and Extracted Successfully!\n"
     ]
    }
   ],
   "source": [
    "getStockData = False  # Change this BOOLEAN to \"True\" if you want to download the data regarding the stock.\n",
    "if getStockData:\n",
    "    for stockKey in list(filter(lambda cKey : 'stock' in cKey.lower(), dictStocks.keys())):\n",
    "        print(f'Current File -> {stockKey}')\n",
    "        stockURL = dictStocks[\"CORE_URL\"] + dictStocks[stockKey][\"URL\"]\n",
    "        stockFilename = wget.download(stockURL, out=pathTMP, bar=bar_progress)\n",
    "        z = zipfile.ZipFile(stockFilename)\n",
    "        z.extractall(pathData)\n",
    "        z.close()\n",
    "        os.remove(stockFilename)\n",
    "        print(f'\\nFile Downloaded and Extracted Successfully!')\n"
   ]
  },
  {
   "attachments": {},
   "cell_type": "markdown",
   "metadata": {},
   "source": [
    "---\n",
    "\n",
    "#### Collect Data - BODACC"
   ]
  },
  {
   "cell_type": "code",
   "execution_count": 7,
   "metadata": {},
   "outputs": [],
   "source": [
    "get_BODACC_Data = False  # Change this BOOLEAN to \"True\" if you want to download the data regarding the BODAAC.\n",
    "if get_BODACC_Data:\n",
    "    BODAAC_URL = 'https://bodacc-datadila.opendatasoft.com/api/explore/v2.1/catalog/datasets/annonces-commerciales/exports/csv'\n",
    "    filename = wget.download(BODAAC_URL, out=pathData, bar=bar_progress)"
   ]
  },
  {
   "attachments": {},
   "cell_type": "markdown",
   "metadata": {},
   "source": [
    "---\n",
    "\n",
    "#### Collect Data - NAFs Code"
   ]
  },
  {
   "cell_type": "code",
   "execution_count": 43,
   "metadata": {},
   "outputs": [
    {
     "name": "stdout",
     "output_type": "stream",
     "text": [
      "Downloading: 100% [-1 / -1] bytes"
     ]
    }
   ],
   "source": [
    "get_CodeNAFs_Data = False  # Change this BOOLEAN to \"True\" if you want to download the data regarding the BODAAC.\n",
    "if get_CodeNAFs_Data:\n",
    "    CodeNAFs_URL = 'https://www.insee.fr/fr/statistiques/fichier/2120875/int_courts_naf_rev_2.xls'\n",
    "    filename = wget.download(CodeNAFs_URL, out=pathData, bar=bar_progress)\n",
    "    \n",
    "    # Transform the Dataset Content\n",
    "    df_codeNafs = pd.read_excel(filename).dropna().reset_index(drop=True)\n",
    "    df_codeNafs = df_codeNafs.drop(columns = [df_codeNafs.columns[0], df_codeNafs.columns[2], df_codeNafs.columns[3]])\n",
    "    df_codeNafs = df_codeNafs.rename(columns = {'Code': 'NAF', df_codeNafs.columns[-1]: 'Intitulés'})\n",
    "    df_codeNafs['SECTION'] = df_codeNafs['NAF'].str.extract('SECTION ([A-Z])')\n",
    "    df_codeNafs['SECTION'].fillna(method='ffill', inplace=True)\n",
    "    df_codeNafs = df_codeNafs[~df_codeNafs['NAF'].str.contains('SECTION')].reset_index(drop=True)\n",
    "    df_codeNafs.to_csv(filename.replace('.xls', '.csv'))  # Transform XLS into CSV\n",
    "    os.remove(filename)"
   ]
  },
  {
   "attachments": {},
   "cell_type": "markdown",
   "metadata": {},
   "source": [
    "#### SPLIT Stock Data by NAFs Code SECTION"
   ]
  },
  {
   "cell_type": "code",
   "execution_count": 1,
   "metadata": {},
   "outputs": [],
   "source": [
    "split_Stock_Data = False  # Change this BOOLEAN to \"True\" if you want to download the data regarding the BODAAC.\n",
    "if split_Stock_Data: \n",
    "    df_codeNafs = pd.read_csv( os.path.join(pathData, 'int_courts_naf_rev_2.csv'))\n",
    "    lsStocksFiles = list(filter(lambda fileName : all(['lien' not in fileName.lower(), 'stock' in fileName.lower(), '.csv' in fileName.lower()]), os.listdir(pathData)))\n",
    "    for stockFile in lsStocksFiles:  # Loop through each Stock File\n",
    "        try:\n",
    "            stockFolderName = stockFile.split('_')[0]\n",
    "            print(stockFolderName, f'\\n{\"-\"*len(stockFolderName)}')\n",
    "            sectionPath = os.path.join(pathData, stockFolderName, 'SECTION')\n",
    "            os.makedirs(sectionPath, exist_ok=True)\n",
    "\n",
    "            df = pd.read_csv(os.path.join(pathData, stockFile), low_memory=False)\n",
    "            for section in df_codeNafs['SECTION'].unique():\n",
    "                NAF_codes = list(df_codeNafs[df_codeNafs['SECTION'] == section]['NAF'])\n",
    "                colActivity = 'activitePrincipaleUniteLegale' if 'Etablissement' not in stockFile else 'activitePrincipaleEtablissement'\n",
    "                subdf = df[df[colActivity].isin(NAF_codes)].reset_index(drop=True)\n",
    "                subdf.to_csv( os.path.join(sectionPath, f'{stockFolderName}-SECTION_{section}.csv'))\n",
    "                print(f'Dataset {stockFolderName} - Filtered on Section {section} -> Created')\n",
    "            print('\\n')\n",
    "        except:\n",
    "            continue"
   ]
  },
  {
   "attachments": {},
   "cell_type": "markdown",
   "metadata": {},
   "source": [
    "---\n",
    "\n",
    "#### Collect Data - Legal Categories by INSEE "
   ]
  },
  {
   "cell_type": "code",
   "execution_count": 5,
   "metadata": {},
   "outputs": [
    {
     "name": "stdout",
     "output_type": "stream",
     "text": [
      "Downloading: 100% [-1 / -1] bytes"
     ]
    }
   ],
   "source": [
    "get_LEGAL_CATEGORIES_Data = False  # Change this BOOLEAN to \"True\" if you want to download the data regarding the LEGAL Categories by the INSEE.\n",
    "if get_LEGAL_CATEGORIES_Data:\n",
    "    LEGAL_CATEGORIES_URL = 'https://public.opendatasoft.com/api/explore/v2.1/catalog/datasets/categories-juridiques-insee/exports/csv?lang=fr&timezone=Europe%2FBerlin&use_labels=true&delimiter=%3B'\n",
    "    filename = wget.download(LEGAL_CATEGORIES_URL, out=pathData, bar=bar_progress)"
   ]
  }
 ],
 "metadata": {
  "kernelspec": {
   "display_name": "dl_py38",
   "language": "python",
   "name": "python3"
  },
  "language_info": {
   "codemirror_mode": {
    "name": "ipython",
    "version": 3
   },
   "file_extension": ".py",
   "mimetype": "text/x-python",
   "name": "python",
   "nbconvert_exporter": "python",
   "pygments_lexer": "ipython3",
   "version": "3.8.13"
  },
  "orig_nbformat": 4,
  "vscode": {
   "interpreter": {
    "hash": "a2980eb1535fd9fe0bc5af9b4eea6a01ebfcb3e8a30a50ee16cd2370a902e8e1"
   }
  }
 },
 "nbformat": 4,
 "nbformat_minor": 2
}
